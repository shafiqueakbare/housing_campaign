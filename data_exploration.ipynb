{
 "cells": [
  {
   "cell_type": "code",
   "execution_count": null,
   "metadata": {},
   "outputs": [],
   "source": []
  },
  {
   "cell_type": "code",
   "execution_count": 4,
   "metadata": {},
   "outputs": [
    {
     "name": "stdout",
     "output_type": "stream",
     "text": [
      "Donnees_CNL.csv  Donnees_CNL_2.csv  LICENSE  README.md\tdata_exploration.ipynb\n"
     ]
    }
   ],
   "source": [
    "# path definition\n",
    "path_to_cnl_data = './'\n",
    "\n",
    "!ls "
   ]
  },
  {
   "cell_type": "code",
   "execution_count": 6,
   "metadata": {},
   "outputs": [],
   "source": [
    "import pandas as pd\n",
    "import numpy as np\n"
   ]
  },
  {
   "cell_type": "code",
   "execution_count": 7,
   "metadata": {},
   "outputs": [],
   "source": [
    "import chardet"
   ]
  },
  {
   "cell_type": "code",
   "execution_count": 8,
   "metadata": {},
   "outputs": [],
   "source": [
    "with open('Donnees_CNL.csv', 'rb') as f:\n",
    "    enc = chardet.detect(f.read())"
   ]
  },
  {
   "cell_type": "code",
   "execution_count": 4,
   "metadata": {},
   "outputs": [
    {
     "data": {
      "text/plain": [
       "{'encoding': 'ISO-8859-1', 'confidence': 0.73, 'language': ''}"
      ]
     },
     "execution_count": 4,
     "metadata": {},
     "output_type": "execute_result"
    }
   ],
   "source": [
    "enc"
   ]
  },
  {
   "cell_type": "code",
   "execution_count": 27,
   "metadata": {},
   "outputs": [],
   "source": [
    "# df = pd.read_csv(\"Donnees_CNL.csv\", encoding = enc['encoding'])"
   ]
  },
  {
   "cell_type": "code",
   "execution_count": 24,
   "metadata": {},
   "outputs": [],
   "source": [
    "df = pd.read_excel('Donnees_CNL_converted_to_xlsx.xlsx', sheet_name='Donnees_CNL')  "
   ]
  },
  {
   "cell_type": "code",
   "execution_count": 25,
   "metadata": {},
   "outputs": [
    {
     "data": {
      "text/html": [
       "<div>\n",
       "<style scoped>\n",
       "    .dataframe tbody tr th:only-of-type {\n",
       "        vertical-align: middle;\n",
       "    }\n",
       "\n",
       "    .dataframe tbody tr th {\n",
       "        vertical-align: top;\n",
       "    }\n",
       "\n",
       "    .dataframe thead th {\n",
       "        text-align: right;\n",
       "    }\n",
       "</style>\n",
       "<table border=\"1\" class=\"dataframe\">\n",
       "  <thead>\n",
       "    <tr style=\"text-align: right;\">\n",
       "      <th></th>\n",
       "      <th>Lessives.LVLb</th>\n",
       "      <th>Deodorants.ICOS1</th>\n",
       "      <th>EauDeToilette.ICOS2</th>\n",
       "      <th>ProdSoinCheveux.ICOS3</th>\n",
       "      <th>ProdSoinVisage.ICOS4</th>\n",
       "      <th>VernisOngleDissolv.ICOS5</th>\n",
       "      <th>NbPieceAvecProduitsChim.NQ142</th>\n",
       "      <th>NettoyantDeSurface.QPE1b</th>\n",
       "      <th>AutreNettoyants.QPE2b</th>\n",
       "      <th>DesodoAreosolVaporisateur.QPD1b</th>\n",
       "      <th>...</th>\n",
       "      <th>Nb_Enfants_inf_10</th>\n",
       "      <th>Nb_Enfants_sup_10</th>\n",
       "      <th>Sexe</th>\n",
       "      <th>Diplome_Max</th>\n",
       "      <th>Type_Prof</th>\n",
       "      <th>Occupation</th>\n",
       "      <th>Source_ppale_Res</th>\n",
       "      <th>Structure_menage</th>\n",
       "      <th>TYPEMEN</th>\n",
       "      <th>Formldéhyde</th>\n",
       "    </tr>\n",
       "  </thead>\n",
       "  <tbody>\n",
       "    <tr>\n",
       "      <th>0</th>\n",
       "      <td>0.0</td>\n",
       "      <td>10.5</td>\n",
       "      <td>14.0</td>\n",
       "      <td>0.0</td>\n",
       "      <td>7.0</td>\n",
       "      <td>0.0</td>\n",
       "      <td>0</td>\n",
       "      <td>0.0</td>\n",
       "      <td>0.0</td>\n",
       "      <td>0.0</td>\n",
       "      <td>...</td>\n",
       "      <td>0</td>\n",
       "      <td>0</td>\n",
       "      <td>2</td>\n",
       "      <td>1</td>\n",
       "      <td>6</td>\n",
       "      <td>1</td>\n",
       "      <td>1</td>\n",
       "      <td>3</td>\n",
       "      <td>1</td>\n",
       "      <td>12.26</td>\n",
       "    </tr>\n",
       "    <tr>\n",
       "      <th>1</th>\n",
       "      <td>3.5</td>\n",
       "      <td>14.0</td>\n",
       "      <td>14.0</td>\n",
       "      <td>1.0</td>\n",
       "      <td>7.0</td>\n",
       "      <td>0.5</td>\n",
       "      <td>0</td>\n",
       "      <td>7.0</td>\n",
       "      <td>3.5</td>\n",
       "      <td>3.5</td>\n",
       "      <td>...</td>\n",
       "      <td>0</td>\n",
       "      <td>1</td>\n",
       "      <td>1</td>\n",
       "      <td>7</td>\n",
       "      <td>4</td>\n",
       "      <td>1</td>\n",
       "      <td>1</td>\n",
       "      <td>2</td>\n",
       "      <td>5</td>\n",
       "      <td>10.17</td>\n",
       "    </tr>\n",
       "    <tr>\n",
       "      <th>2</th>\n",
       "      <td>1.5</td>\n",
       "      <td>7.0</td>\n",
       "      <td>7.0</td>\n",
       "      <td>0.0</td>\n",
       "      <td>7.0</td>\n",
       "      <td>0.0</td>\n",
       "      <td>0</td>\n",
       "      <td>0.0</td>\n",
       "      <td>0.0</td>\n",
       "      <td>0.0</td>\n",
       "      <td>...</td>\n",
       "      <td>0</td>\n",
       "      <td>0</td>\n",
       "      <td>2</td>\n",
       "      <td>8</td>\n",
       "      <td>5</td>\n",
       "      <td>1</td>\n",
       "      <td>1</td>\n",
       "      <td>1</td>\n",
       "      <td>2</td>\n",
       "      <td>21.55</td>\n",
       "    </tr>\n",
       "    <tr>\n",
       "      <th>3</th>\n",
       "      <td>1.5</td>\n",
       "      <td>7.0</td>\n",
       "      <td>10.5</td>\n",
       "      <td>0.5</td>\n",
       "      <td>1.0</td>\n",
       "      <td>0.0</td>\n",
       "      <td>1</td>\n",
       "      <td>3.5</td>\n",
       "      <td>0.0</td>\n",
       "      <td>0.0</td>\n",
       "      <td>...</td>\n",
       "      <td>0</td>\n",
       "      <td>0</td>\n",
       "      <td>2</td>\n",
       "      <td>5</td>\n",
       "      <td>4</td>\n",
       "      <td>1</td>\n",
       "      <td>1</td>\n",
       "      <td>3</td>\n",
       "      <td>1</td>\n",
       "      <td>NaN</td>\n",
       "    </tr>\n",
       "    <tr>\n",
       "      <th>4</th>\n",
       "      <td>3.5</td>\n",
       "      <td>0.0</td>\n",
       "      <td>1.0</td>\n",
       "      <td>0.5</td>\n",
       "      <td>7.0</td>\n",
       "      <td>1.0</td>\n",
       "      <td>1</td>\n",
       "      <td>1.0</td>\n",
       "      <td>0.0</td>\n",
       "      <td>0.0</td>\n",
       "      <td>...</td>\n",
       "      <td>2</td>\n",
       "      <td>0</td>\n",
       "      <td>1</td>\n",
       "      <td>9</td>\n",
       "      <td>3</td>\n",
       "      <td>1</td>\n",
       "      <td>1</td>\n",
       "      <td>2</td>\n",
       "      <td>6</td>\n",
       "      <td>11.03</td>\n",
       "    </tr>\n",
       "  </tbody>\n",
       "</table>\n",
       "<p>5 rows × 130 columns</p>\n",
       "</div>"
      ],
      "text/plain": [
       "   Lessives.LVLb  Deodorants.ICOS1  EauDeToilette.ICOS2  \\\n",
       "0            0.0              10.5                 14.0   \n",
       "1            3.5              14.0                 14.0   \n",
       "2            1.5               7.0                  7.0   \n",
       "3            1.5               7.0                 10.5   \n",
       "4            3.5               0.0                  1.0   \n",
       "\n",
       "   ProdSoinCheveux.ICOS3  ProdSoinVisage.ICOS4  VernisOngleDissolv.ICOS5  \\\n",
       "0                    0.0                   7.0                       0.0   \n",
       "1                    1.0                   7.0                       0.5   \n",
       "2                    0.0                   7.0                       0.0   \n",
       "3                    0.5                   1.0                       0.0   \n",
       "4                    0.5                   7.0                       1.0   \n",
       "\n",
       "   NbPieceAvecProduitsChim.NQ142  NettoyantDeSurface.QPE1b  \\\n",
       "0                              0                       0.0   \n",
       "1                              0                       7.0   \n",
       "2                              0                       0.0   \n",
       "3                              1                       3.5   \n",
       "4                              1                       1.0   \n",
       "\n",
       "   AutreNettoyants.QPE2b  DesodoAreosolVaporisateur.QPD1b  ...  \\\n",
       "0                    0.0                              0.0  ...   \n",
       "1                    3.5                              3.5  ...   \n",
       "2                    0.0                              0.0  ...   \n",
       "3                    0.0                              0.0  ...   \n",
       "4                    0.0                              0.0  ...   \n",
       "\n",
       "   Nb_Enfants_inf_10  Nb_Enfants_sup_10  Sexe  Diplome_Max  Type_Prof  \\\n",
       "0                  0                  0     2            1          6   \n",
       "1                  0                  1     1            7          4   \n",
       "2                  0                  0     2            8          5   \n",
       "3                  0                  0     2            5          4   \n",
       "4                  2                  0     1            9          3   \n",
       "\n",
       "   Occupation  Source_ppale_Res  Structure_menage  TYPEMEN  Formldéhyde  \n",
       "0           1                 1                 3        1        12.26  \n",
       "1           1                 1                 2        5        10.17  \n",
       "2           1                 1                 1        2        21.55  \n",
       "3           1                 1                 3        1          NaN  \n",
       "4           1                 1                 2        6        11.03  \n",
       "\n",
       "[5 rows x 130 columns]"
      ]
     },
     "execution_count": 25,
     "metadata": {},
     "output_type": "execute_result"
    }
   ],
   "source": [
    "df.head(5)"
   ]
  },
  {
   "cell_type": "code",
   "execution_count": null,
   "metadata": {},
   "outputs": [],
   "source": []
  },
  {
   "cell_type": "code",
   "execution_count": null,
   "metadata": {},
   "outputs": [],
   "source": []
  }
 ],
 "metadata": {
  "interpreter": {
   "hash": "d9872126178d9f945172cbb207fe820b21fcfb54e32550cc5512e4b3b6f623eb"
  },
  "kernelspec": {
   "display_name": "Python 3.8.10 64-bit ('myenv': venv)",
   "language": "python",
   "name": "python3"
  },
  "language_info": {
   "codemirror_mode": {
    "name": "ipython",
    "version": 3
   },
   "file_extension": ".py",
   "mimetype": "text/x-python",
   "name": "python",
   "nbconvert_exporter": "python",
   "pygments_lexer": "ipython3",
   "version": "3.8.10"
  },
  "orig_nbformat": 4
 },
 "nbformat": 4,
 "nbformat_minor": 2
}
